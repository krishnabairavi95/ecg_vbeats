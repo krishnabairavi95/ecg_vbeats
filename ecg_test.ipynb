{
 "cells": [
  {
   "cell_type": "code",
   "execution_count": 21,
   "metadata": {},
   "outputs": [],
   "source": [
    "import numpy as np\n",
    "import skimage\n",
    "from skimage.io import imread_collection\n",
    "import numpy as np\n",
    "import matplotlib.image as mpimg\n",
    "import matplotlib.pyplot as plt\n",
    "from scipy import ndimage as ndi\n",
    "import matplotlib.pyplot as plt\n",
    "from skimage.feature import peak_local_max\n",
    "from skimage import data, img_as_float\n",
    "import cv2\n",
    "from copy import deepcopy\n",
    "import glob\n",
    "import cv2 \n",
    "import os\n",
    "import pickle\n",
    "import csv"
   ]
  },
  {
   "cell_type": "markdown",
   "metadata": {},
   "source": [
    "### Reading trained models"
   ]
  },
  {
   "cell_type": "code",
   "execution_count": 24,
   "metadata": {},
   "outputs": [],
   "source": [
    "filename = 'fin.sav'\n",
    "loaded_model = pickle.load(open(filename, 'rb'))\n",
    "directory = \"/Users/krishnabairavi/Downloads/test/\""
   ]
  },
  {
   "cell_type": "markdown",
   "metadata": {},
   "source": [
    "### Procedure"
   ]
  },
  {
   "cell_type": "markdown",
   "metadata": {},
   "source": [
    "1. Testing the images on the models. Model takes the amplitude of signal peaks from an image and classifies each amplitude into 0 ( No V's present) and 1 ( V's Present)"
   ]
  },
  {
   "cell_type": "markdown",
   "metadata": {},
   "source": [
    "2. Once the processed test dataset which contains the amplitude obtained is fed to the model, output label can be predicted and the time at which it occured can be obtained"
   ]
  },
  {
   "cell_type": "markdown",
   "metadata": {},
   "source": [
    "3. The results are then writen into the csv file \" predictions.csv\" "
   ]
  },
  {
   "cell_type": "code",
   "execution_count": 25,
   "metadata": {},
   "outputs": [],
   "source": [
    "test_set=[]\n",
    "\n",
    "pred_list = []\n",
    "\n",
    "for filename in sorted(os.listdir(directory)):\n",
    "    \n",
    "    predictions=set()\n",
    "    \n",
    "    ## Opening a CSV file to write the outputs in desired format\n",
    "    \n",
    "    myFile = open ('predictions.csv','w')\n",
    "    \n",
    "    if filename.endswith(\".test\"): \n",
    "        continue\n",
    "        \n",
    "    img = mpimg.imread(directory+str (filename))\n",
    "    \n",
    "    img = cv2.cvtColor(img, cv2.COLOR_BGRA2BGR)\n",
    "    total_count = 0\n",
    "    \n",
    "    for i in range(10,7500,75):\n",
    "        \n",
    "        pic = img[0:75,i:i+75]\n",
    "        flag = 0\n",
    "        break_flag = 0\n",
    "        pic_mod = deepcopy(pic)\n",
    "        pic_mod = pic_mod/np.linalg.norm(pic_mod)\n",
    "        sum_pic = np.sum(pic_mod[:,:,2])\n",
    "\n",
    "    ## Code block to detect blue regions in the annotations ( the one's which are non V's)\n",
    "    \n",
    "        if(sum_pic > 43.5 and sum_pic < 45):\n",
    "            box_number = 0\n",
    "            \n",
    "            for m in range(75,750,75):\n",
    "                pic_m = img[m:m+75,i:i+75]\n",
    "                pic_mod_b = cv2.cvtColor(pic_m, cv2.COLOR_BGR2GRAY)\n",
    "                sum_pic_b = np.sum(pic_mod_b)\n",
    "                box_number += 1\n",
    "              \n",
    "                ## To find the black peak in an image using color identification and Harris peak detections\n",
    "                \n",
    "                if(sum_pic_b < 5450):\n",
    "                    \n",
    "                    operatedImage = np.float32(pic_mod_b)\n",
    "            \n",
    "                    dst = cv2.cornerHarris(operatedImage, 2, 5, 0.01)\n",
    "                    \n",
    "                    dst_new = cv2.dilate(dst,None)\n",
    "\n",
    "                    points_unravel=np.unravel_index(dst_new.argmax(),dst.shape)\n",
    "                    \n",
    "                    ## Determining the amplitude for every peak\n",
    "                    \n",
    "                    value = abs( (((4 - box_number)*75)+points_unravel[0])*0.5 )\n",
    "        \n",
    "                    ## Loading the trained model and predicting the class for an amplitude\n",
    "                    pred= loaded_model.predict (value.reshape(-1,1))\n",
    "                    \n",
    "                    ## To determine the time of occurance of V ( which is  predicted class 1 )\n",
    "                    \n",
    "                    if pred == [1]:\n",
    "                        time = (0.2 * i)/75\n",
    "                        predictions.add(time)\n",
    "                    \n",
    "                    break\n",
    "                    \n",
    "##Writing the obtained to a csv file \n",
    "\n",
    "    for p in predictions:\n",
    "        pred_list.append([str(filename) + \" \" + str(p)])\n",
    "\n",
    "with  myFile:\n",
    "    writer = csv.writer(myFile)\n",
    "    writer.writerows(pred_list)\n",
    "    \n",
    "    \n",
    "    \n",
    "    \n",
    "    \n",
    "                    \n",
    "                    "
   ]
  }
 ],
 "metadata": {
  "kernelspec": {
   "display_name": "Python 3",
   "language": "python",
   "name": "python3"
  },
  "language_info": {
   "codemirror_mode": {
    "name": "ipython",
    "version": 3
   },
   "file_extension": ".py",
   "mimetype": "text/x-python",
   "name": "python",
   "nbconvert_exporter": "python",
   "pygments_lexer": "ipython3",
   "version": "3.7.5"
  }
 },
 "nbformat": 4,
 "nbformat_minor": 2
}
